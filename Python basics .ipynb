{
 "cells": [
  {
   "cell_type": "code",
   "execution_count": 2,
   "metadata": {},
   "outputs": [
    {
     "name": "stdout",
     "output_type": "stream",
     "text": [
      "hamdi\n",
      "akrimi\n",
      "akrimi   hamdi\n"
     ]
    }
   ],
   "source": [
    "str1=input()\n",
    "str2=input()\n",
    "print (str2,\" \",str1)"
   ]
  },
  {
   "cell_type": "code",
   "execution_count": 5,
   "metadata": {},
   "outputs": [
    {
     "name": "stdout",
     "output_type": "stream",
     "text": [
      "5\n",
      "615\n"
     ]
    }
   ],
   "source": [
    "n=input()\n",
    "x=str(n+n)\n",
    "y=str(n+n+n)\n",
    "print(int(n)+int(x)+int(y))\n",
    "\n"
   ]
  },
  {
   "cell_type": "code",
   "execution_count": 39,
   "metadata": {},
   "outputs": [
    {
     "name": "stdout",
     "output_type": "stream",
     "text": [
      "4\n",
      "even\n"
     ]
    }
   ],
   "source": [
    "x=input()\n",
    "n=(int(x) % 2)\n",
    "if n==0:\n",
    "        print(\"even\")\n",
    "elif n==1:\n",
    "        print(\"odd\")"
   ]
  },
  {
   "cell_type": "code",
   "execution_count": 49,
   "metadata": {},
   "outputs": [
    {
     "name": "stdout",
     "output_type": "stream",
     "text": [
      "2017\n",
      "is not a leap year\n"
     ]
    }
   ],
   "source": [
    "year =int(input())\n",
    "\n",
    "if (year % 4) == 0:\n",
    "   if (year % 100) == 0:\n",
    "       if (year % 400) == 0:\n",
    "           print(\"is a leap year\")\n",
    "       else:\n",
    "           print(\"is not a leap year\")\n",
    "   else:\n",
    "       print(\"is a leap year\")\n",
    "else:\n",
    "   print(\"is not a leap year\")\n",
    "\n"
   ]
  },
  {
   "cell_type": "code",
   "execution_count": 64,
   "metadata": {},
   "outputs": [
    {
     "name": "stdout",
     "output_type": "stream",
     "text": [
      "hamdi\n",
      "hmi\n"
     ]
    }
   ],
   "source": [
    "#my_string=\"hello team\"\n",
    "my_string=str(input())\n",
    "print(my_string[0:10:2])"
   ]
  },
  {
   "cell_type": "code",
   "execution_count": 81,
   "metadata": {},
   "outputs": [
    {
     "name": "stdout",
     "output_type": "stream",
     "text": [
      "90\n",
      "you will have 30% discount, you will pay 81.0\n"
     ]
    }
   ],
   "source": [
    "x=float(input())\n",
    "if x >=500:\n",
    "    print(\"you will have 50% discount, you will pay\" ,x/2)\n",
    "elif x>=200 and x <500:\n",
    "    print(\"you will have 30% discount, you will pay\", x - (x * 30) /100)\n",
    "else:\n",
    "    print(\"you will have 30% discount, you will pay\", x - (x * 10) /100)\n"
   ]
  },
  {
   "cell_type": "code",
   "execution_count": null,
   "metadata": {},
   "outputs": [],
   "source": []
  },
  {
   "cell_type": "code",
   "execution_count": null,
   "metadata": {},
   "outputs": [],
   "source": []
  }
 ],
 "metadata": {
  "kernelspec": {
   "display_name": "Python 3",
   "language": "python",
   "name": "python3"
  },
  "language_info": {
   "codemirror_mode": {
    "name": "ipython",
    "version": 3
   },
   "file_extension": ".py",
   "mimetype": "text/x-python",
   "name": "python",
   "nbconvert_exporter": "python",
   "pygments_lexer": "ipython3",
   "version": "3.7.6"
  }
 },
 "nbformat": 4,
 "nbformat_minor": 4
}
